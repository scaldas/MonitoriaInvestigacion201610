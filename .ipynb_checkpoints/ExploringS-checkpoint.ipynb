{
 "cells": [
  {
   "cell_type": "code",
   "execution_count": 1,
   "metadata": {
    "collapsed": false
   },
   "outputs": [
    {
     "name": "stdout",
     "output_type": "stream",
     "text": [
      "Populating the interactive namespace from numpy and matplotlib\n"
     ]
    }
   ],
   "source": [
    "%pylab inline\n",
    "from sklearn import linear_model\n",
    "import cv2\n",
    "from math import exp\n",
    "from matplotlib import pyplot as plt\n",
    "from skimage import measure"
   ]
  },
  {
   "cell_type": "code",
   "execution_count": 2,
   "metadata": {
    "collapsed": true
   },
   "outputs": [],
   "source": [
    "# Auxiliary functions to calculate PSFs\n",
    "def gaussian(x, mu, sigma):\n",
    "    return exp( -(((x-mu)/(sigma))**2)/2.0 )\n",
    "\n",
    "def get_convolution_matrix(kernel_radius, sigma):\n",
    "    # compute the kernel elements\n",
    "    hkernel = [gaussian(x, kernel_radius, sigma) for x in range(2*kernel_radius+1)]\n",
    "    vkernel = [x for x in hkernel]\n",
    "    kernel2d = [[xh*xv for xh in hkernel] for xv in vkernel]\n",
    "   \n",
    "    # normalize the kernel elements\n",
    "    kernelsum = sum([sum(row) for row in kernel2d])\n",
    "    kernel2d = [[x/kernelsum for x in row] for row in kernel2d]\n",
    "    \n",
    "    return array(kernel2d)\n",
    "\n",
    "def get_correct_PSF_representation(PSF, image):\n",
    "    size_e = len(image) - len(PSF)\n",
    "    PSF_e = np.pad(PSF, ((size_e/2,0),(size_e/2,0)), mode='constant')\n",
    "    PSF_e = np.pad(PSF_e, ((0,size_e/2),(0,size_e/2)), mode='constant')\n",
    "    PSF_e = fft.fftshift(PSF_e)\n",
    "    return PSF_e"
   ]
  },
  {
   "cell_type": "code",
   "execution_count": 15,
   "metadata": {
    "collapsed": false
   },
   "outputs": [],
   "source": [
    "# Auxiliary functions to calculate beta\n",
    "def linear_fit(D_r, D_n):\n",
    "    D_r_elements = D_r.flatten().reshape(-1, 1) \n",
    "    D_n_elements = D_n.flatten().reshape(-1, 1) \n",
    "    lr_model = linear_model.LinearRegression().fit(D_r_elements, D_n_elements)\n",
    "    slope = lr_model.coef_[0]\n",
    "    intercept = lr_model.intercept_\n",
    "    return slope, intercept\n",
    "\n",
    "def get_beta(sigma_r, sigma_n, fourier_PSF_r, fourier_PSF_n, fourier_R, fourier_N):\n",
    "    max_iter_beta = 10000 # maximum number of iterations for the fit\n",
    "    beta_epsilon = 0.001 # minimum distance for convergence of the fit\n",
    "    epsilon = 0.001 # avoids division by zero\n",
    "    beta = 1\n",
    "    gamma_prime = 0\n",
    "\n",
    "    beta_converges = False\n",
    "    num_iter = 0\n",
    "\n",
    "    while not beta_converges and num_iter < max_iter_beta:\n",
    "        num_iter = num_iter + 1\n",
    "        denom = (beta**2)*(sigma_r**2)*(fourier_PSF_n*conjugate(fourier_PSF_n)) + (sigma_n**2)*(fourier_PSF_r*conjugate(fourier_PSF_r)) + epsilon\n",
    "        fourier_D_n = (fourier_PSF_r*fourier_N)/sqrt(denom)\n",
    "        fourier_D_r = (fourier_PSF_n*fourier_R)/sqrt(denom)\n",
    "    \n",
    "        D_n = ifft2(fourier_D_n)\n",
    "        D_r = ifft2(fourier_D_r)\n",
    "    \n",
    "        # Here, they select pixels which are one (really three) sigma above the image noise\n",
    "        # We don't do that\n",
    "    \n",
    "        prev_beta = beta\n",
    "    \n",
    "        # The fit we are using ignores imaginary parts, so we fit the squares instead \n",
    "        beta, gamma_prime = linear_fit(real(D_r*conjugate(D_r)), real(D_n*conjugate(D_n)))\n",
    "        if abs(beta - prev_beta) < beta_epsilon:\n",
    "            beta_converges = True\n",
    "    return beta"
   ]
  },
  {
   "cell_type": "code",
   "execution_count": 16,
   "metadata": {
    "collapsed": true
   },
   "outputs": [],
   "source": [
    "# Auxiliary functions to calculate S\n",
    "def get_S(sigma_r, sigma_n, PSF_r, PSF_n, R, N):\n",
    "    epsilon = 0.001 # avoids division by zero\n",
    "    fourier_R = fft.fft2(R)\n",
    "    fourier_N = fft.fft2(N)\n",
    "    fourier_PSF_r = fft.fft2(PSF_r)\n",
    "    fourier_PSF_n = fft.fft2(PSF_n)\n",
    "    F_r = 1\n",
    "    F_n = get_beta(sigma_r, sigma_n, fourier_PSF_r, fourier_PSF_n, fourier_R, fourier_N)\n",
    "    denom =(sigma_r**2)*(F_n**2)*(fourier_PSF_n*conjugate(fourier_PSF_n))    \n",
    "    denom = denom + (sigma_n**2)*(F_r**2)*(fourier_PSF_r*conjugate(fourier_PSF_r)) + epsilon\n",
    "    fourier_S = (F_n)*(F_r**2)*conjugate(fourier_PSF_n)*(fourier_PSF_r*conjugate(fourier_PSF_r))*fourier_N\n",
    "    fourier_S = fourier_S - (F_r)*(F_n**2)*conjugate(fourier_PSF_r)*(fourier_PSF_n*conjugate(fourier_PSF_n))*fourier_R\n",
    "    fourier_S = fourier_S/denom\n",
    "    S = ifft2(fourier_S)\n",
    "    return real(S)"
   ]
  },
  {
   "cell_type": "code",
   "execution_count": 19,
   "metadata": {
    "collapsed": true
   },
   "outputs": [],
   "source": [
    "# Auxiliary functions to print candidates\n",
    "def print_candidates(S):\n",
    "    sigma_S = std(S)\n",
    "    candidates = zeros(shape(S))\n",
    "    for i in range(len(S)):\n",
    "        for j in range(len(S)):\n",
    "            if abs(S[i][j]) >= 5*sigma_S:\n",
    "                candidates[i][j] = 255\n",
    "    candidates = measure.label(candidates)\n",
    "    for i in range(np.max(candidates)):\n",
    "        x = str(average(np.where(candidates == (i + 1))[0]))\n",
    "        y = str(average(np.where(candidates == (i + 1))[1]))\n",
    "        print(\"Candidate \" + str(i + 1) + \": (\" + x + \", \" + y + \")\")"
   ]
  },
  {
   "cell_type": "code",
   "execution_count": 20,
   "metadata": {
    "collapsed": false
   },
   "outputs": [
    {
     "name": "stdout",
     "output_type": "stream",
     "text": [
      "Candidate 1: (118.090909091, 210.909090909)\n",
      "Candidate 2: (181.042253521, 65.0211267606)\n"
     ]
    },
    {
     "data": {
      "text/plain": [
       "<matplotlib.image.AxesImage at 0x113355410>"
      ]
     },
     "execution_count": 20,
     "metadata": {},
     "output_type": "execute_result"
    },
    {
     "data": {
      "image/png": "[encoded data removed]",
      "text/plain": [
       "<matplotlib.figure.Figure at 0x1144851d0>"
      ]
     },
     "metadata": {},
     "output_type": "display_data"
    }
   ],
   "source": [
    "R = cv2.imread('./Images/ReferenceImage.jpg', cv2.CV_LOAD_IMAGE_GRAYSCALE) \n",
    "N = cv2.imread('./Images/NewImage.jpg', cv2.CV_LOAD_IMAGE_GRAYSCALE) \n",
    "\n",
    "sigma_r = 100 \n",
    "sigma_n = 100 \n",
    "\n",
    "tile_size = 25\n",
    "sigma_PSF = 3.\n",
    "PSF_r = get_correct_PSF_representation(get_convolution_matrix((tile_size - 1)/2, sigma_PSF), R)\n",
    "PSF_n = get_correct_PSF_representation(get_convolution_matrix((tile_size - 1)/2, sigma_PSF), N)\n",
    "\n",
    "S = get_S(sigma_r, sigma_n, PSF_r, PSF_n, R, N)\n",
    "print_candidates(S)\n",
    "plt.imshow(S, cmap=\"Greys_r\")"
   ]
  },
  {
   "cell_type": "code",
   "execution_count": null,
   "metadata": {
    "collapsed": true
   },
   "outputs": [],
   "source": []
  }
 ],
 "metadata": {
  "kernelspec": {
   "display_name": "Python 2",
   "language": "python",
   "name": "python2"
  },
  "language_info": {
   "codemirror_mode": {
    "name": "ipython",
    "version": 2
   },
   "file_extension": ".py",
   "mimetype": "text/x-python",
   "name": "python",
   "nbconvert_exporter": "python",
   "pygments_lexer": "ipython2",
   "version": "2.7.11"
  }
 },
 "nbformat": 4,
 "nbformat_minor": 0
}
